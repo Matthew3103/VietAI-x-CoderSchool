{
 "cells": [
  {
   "cell_type": "markdown",
   "id": "57dd8d9e",
   "metadata": {},
   "source": [
    "# Exercise 1"
   ]
  },
  {
   "cell_type": "code",
   "execution_count": 1,
   "id": "7b3bc33d",
   "metadata": {},
   "outputs": [],
   "source": [
    "# Ex1: Write a NumPy program to reverse an array (first element becomes last).\n",
    "# Input: [12 13 14 15 16 17 18 19 20 21 22 23 24 25 26 27 28 29 30 31 32 33 34 35 36 37]\n",
    "\n",
    "import numpy as np\n",
    "\n",
    "x = np.array([12, 13, 14, 15, 16, 17, 18, 19, 20, 21, 22, 23, 24, 25, 26, 27, 28, 29, 30, 31, 32, 33, 34, 35, 36, 37])\n",
    "\n",
    "y = x[::-1]\n",
    "\n",
    "print(y)\n"
   ]
  },
  {
   "cell_type": "code",
   "execution_count": 1,
   "id": "5e1b3145",
   "metadata": {},
   "outputs": [
    {
     "name": "stdout",
     "output_type": "stream",
     "text": [
      "Reversed Array: [37 36 35 34 33 32 31 30 29 28 27 26 25 24 23 22 21 20 19 18 17 16 15 14\n",
      " 13 12]\n"
     ]
    }
   ],
   "source": [
    "import numpy as np\n",
    "\n",
    "# Input array\n",
    "arr = np.array([12, 13, 14, 15, 16, 17, 18, 19, 20, 21, 22, 23, 24, 25, 26, 27, 28, 29, 30, 31, 32, 33, 34, 35, 36, 37])\n",
    "\n",
    "# Reversing the array\n",
    "reversed_arr = arr[::-1]\n",
    "\n",
    "print(\"Reversed Array:\", reversed_arr)"
   ]
  },
  {
   "cell_type": "markdown",
   "id": "81480123",
   "metadata": {},
   "source": [
    "# Exercise 2 "
   ]
  },
  {
   "cell_type": "code",
   "execution_count": null,
   "id": "539714a5",
   "metadata": {},
   "outputs": [],
   "source": [
    "# Ex2: Write a NumPy program to test whether each element of a 1-D array is also present in a second array\n",
    "# Input Array1: [ 0 10 20 40 60]\n",
    "#       Array2: [10, 30, 40]\n",
    "\n",
    "import numpy as np\n",
    "\n",
    "x = np.array([0, 10, 20, 40, 60])\n",
    "y = np.array([10, 30, 40])\n",
    "\n",
    "z=np.isin(x,y)\n",
    "print(z)"
   ]
  },
  {
   "cell_type": "code",
   "execution_count": 2,
   "id": "483e3aef",
   "metadata": {},
   "outputs": [
    {
     "name": "stdout",
     "output_type": "stream",
     "text": [
      "Elements in Array1 that are also in Array2: [False  True False  True False]\n"
     ]
    }
   ],
   "source": [
    "# Input arrays\n",
    "array1 = np.array([0, 10, 20, 40, 60])\n",
    "array2 = np.array([10, 30, 40])\n",
    "\n",
    "# Checking which elements of array1 are in array2\n",
    "result = np.isin(array1, array2)\n",
    "\n",
    "print(\"Elements in Array1 that are also in Array2:\", result)"
   ]
  },
  {
   "cell_type": "markdown",
   "id": "0376138e",
   "metadata": {},
   "source": [
    "# Exercise 3"
   ]
  },
  {
   "cell_type": "code",
   "execution_count": null,
   "id": "2080da3c",
   "metadata": {},
   "outputs": [],
   "source": [
    "# Ex3: Write a NumPy program to find the indices of the maximum and minimum values along the given axis of an array\n",
    "# Input Array [1,6,4,8,9,-4,-2,11]\n",
    "\n",
    "import numpy as np\n",
    "\n",
    "x=np.array([1,6,4,8,9,-4,-2,11])\n",
    "\n",
    "max=np.argmax(x)\n",
    "min=np.argmin(x)\n",
    "print(max)\n",
    "print(min)\n"
   ]
  },
  {
   "cell_type": "code",
   "execution_count": 3,
   "id": "be0b37aa",
   "metadata": {},
   "outputs": [
    {
     "name": "stdout",
     "output_type": "stream",
     "text": [
      "Index of Maximum Value: 7\n",
      "Index of Minimum Value: 5\n"
     ]
    }
   ],
   "source": [
    "# Input array\n",
    "array = np.array([1, 6, 4, 8, 9, -4, -2, 11])\n",
    "\n",
    "# Finding the indices of the maximum and minimum values\n",
    "max_index = np.argmax(array)\n",
    "min_index = np.argmin(array)\n",
    "\n",
    "print(\"Index of Maximum Value:\", max_index)\n",
    "print(\"Index of Minimum Value:\", min_index)"
   ]
  },
  {
   "cell_type": "markdown",
   "id": "b7b28d2b",
   "metadata": {},
   "source": [
    "# Exercise 4 "
   ]
  },
  {
   "cell_type": "code",
   "execution_count": null,
   "id": "edc8dca6",
   "metadata": {},
   "outputs": [],
   "source": [
    "# Ex4: Read the entire file story.txt and write a program to print out top 100 words occur most\n",
    "# frequently and their corresponding appearance. You could ignore all\n",
    "# punction characters such as comma, dot, semicolon, ...\n",
    "# Sample output:\n",
    "# house: 453\n",
    "# dog: 440\n",
    "# people: 312\n",
    "# ...\n",
    "\n",
    "import numpy as np\n",
    "\n",
    "filename='story.txt'\n",
    "\n",
    "with open(filename, 'r') as file: \n",
    "    content = file.read()          \n",
    "    print(content)       \n",
    "\n",
    "\n"
   ]
  }
 ],
 "metadata": {
  "kernelspec": {
   "display_name": "Python 3",
   "language": "python",
   "name": "python3"
  },
  "language_info": {
   "codemirror_mode": {
    "name": "ipython",
    "version": 3
   },
   "file_extension": ".py",
   "mimetype": "text/x-python",
   "name": "python",
   "nbconvert_exporter": "python",
   "pygments_lexer": "ipython3",
   "version": "3.12.1"
  }
 },
 "nbformat": 4,
 "nbformat_minor": 5
}
