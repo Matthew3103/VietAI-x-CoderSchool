{
 "cells": [
  {
   "cell_type": "markdown",
   "id": "444d4cd3",
   "metadata": {},
   "source": [
    "# Exercise 1"
   ]
  },
  {
   "cell_type": "code",
   "execution_count": null,
   "id": "8a825a5a",
   "metadata": {},
   "outputs": [],
   "source": [
    "# Ex1: Write a program to count positive and negative numbers in a list\n",
    "data1 = [-10, -21, -4, -45, -66, 93, 11, -4, -6, 12, 11, 4]\n",
    "\n",
    "positive= 0\n",
    "negative=0\n",
    "\n",
    "for i in data1:\n",
    "    if i > 0:\n",
    "        positive +=1\n",
    "    elif i < 0:\n",
    "        negative +=1\n"
   ]
  },
  {
   "cell_type": "markdown",
   "id": "5efd9f6c",
   "metadata": {},
   "source": [
    "# Exercise 2"
   ]
  },
  {
   "cell_type": "code",
   "execution_count": null,
   "id": "55f64f91",
   "metadata": {},
   "outputs": [],
   "source": [
    "# Ex2: Given a list, extract all elements whose frequency is greater than k.\n",
    "data2 = [4, 6, 4, 3, 3, 4, 3, 4, 3, 8]\n",
    "k = 2\n",
    "n={}\n",
    "x=[]\n",
    "\n",
    "for i in data2:\n",
    "    if i in n:\n",
    "        n[i] +=1\n",
    "    else:\n",
    "        n[i] = 1\n",
    "\n",
    "for i in n:\n",
    "    if n[i] > k:\n",
    "        x.append(i)\n",
    "\n",
    "print(f'the elements whose frequency greater than {k} are {x}')\n"
   ]
  },
  {
   "cell_type": "markdown",
   "id": "809e604f",
   "metadata": {},
   "source": [
    "# Exercise 3"
   ]
  },
  {
   "cell_type": "code",
   "execution_count": null,
   "id": "261fb4ca",
   "metadata": {},
   "outputs": [],
   "source": [
    "# Ex3: find the strongest neighbour. Given an array of N positive integers.\n",
    "# The task is to find the maximum for every adjacent pair in the array.\n",
    "data3 = [4, 5, 6, 7, 3, 9, 11, 2, 10]\n",
    "max=0\n",
    "\n",
    "for i in range(1, len(data3)):\n",
    "    t= data3[i] + data3[i-1]\n",
    "    if t>max:\n",
    "        max=t \n",
    "\n",
    "print(max)\n"
   ]
  },
  {
   "cell_type": "markdown",
   "id": "0f6d44b6",
   "metadata": {},
   "source": [
    "# Exercise 4"
   ]
  },
  {
   "cell_type": "code",
   "execution_count": null,
   "id": "bd4592e2",
   "metadata": {},
   "outputs": [],
   "source": [
    "# Ex4: print all Possible Combinations from the three Digits\n",
    "data4 = [1, 2, 3]\n",
    "\n",
    "for i in data4:\n",
    "    for j in data4:\n",
    "        for k in data4:\n",
    "            if i != j and j != k and i != k:\n",
    "                print([i, j, k])\n"
   ]
  },
  {
   "cell_type": "markdown",
   "id": "50470ca9",
   "metadata": {},
   "source": [
    "# Exercise 5"
   ]
  },
  {
   "cell_type": "code",
   "execution_count": null,
   "id": "18ff641f",
   "metadata": {},
   "outputs": [],
   "source": [
    "# Ex5: Given two matrices (2 nested lists), the task is to write a Python program\n",
    "# to add elements to each row from initial matrix.\n",
    "# For example: Input : test_list1 = [[4, 3, 5,], [1, 2, 3], [3, 7, 4]], test_list2 = [[1], [9], [8]]\n",
    "# Output : [[4, 3, 5, 1], [1, 2, 3, 9], [3, 7, 4, 8]]\n",
    "data5_list1 = [[4, 3, 5, ], [1, 2, 3], [3, 7, 4]]\n",
    "data5_list2 = [[1, 3], [9, 3, 5, 7], [8]]\n",
    "\n",
    "for i in range(len(data5_list1)):\n",
    "    data5_list1[i].extend(data5_list2[i])\n",
    "\n",
    "print(data5_list1)\n",
    "\n"
   ]
  },
  {
   "cell_type": "markdown",
   "id": "cfa5c314",
   "metadata": {},
   "source": [
    "# Exercise 6"
   ]
  },
  {
   "cell_type": "code",
   "execution_count": null,
   "id": "3148bbe9",
   "metadata": {},
   "outputs": [],
   "source": [
    "# Ex6:  Write a program which will find all such numbers which are divisible by 7\n",
    "# but are not a multiple of 5, between 2000 and 3200 (both included).\n",
    "# The numbers obtained should be printed in a comma-separated sequence on a single line.\n",
    "\n",
    "m=2000\n",
    "r=[]\n",
    "\n",
    "while m>=2000 and m<=3200:\n",
    "    if m%5!=0 and m%7==0:\n",
    "        r.append(m)\n",
    "    m +=1\n",
    "\n",
    "print(\", \".join(map(str,r)))"
   ]
  },
  {
   "cell_type": "markdown",
   "id": "b896526c",
   "metadata": {},
   "source": [
    "# Exercise 7"
   ]
  },
  {
   "cell_type": "code",
   "execution_count": null,
   "id": "3fd31ee6",
   "metadata": {},
   "outputs": [],
   "source": [
    "# Ex7: Write a program, which will find all such numbers between 1000 and 3000 (both included) such that each digit of the number is an even number.\n",
    "# The numbers obtained should be printed in a comma-separated sequence on a single line.\n",
    "\n",
    "def chia1000(a):\n",
    "    n=a//1000\n",
    "    return n\n",
    "\n",
    "def chia100(a):\n",
    "    n=a//100\n",
    "    return n\n",
    "\n",
    "def chia10(a):\n",
    "    n=a//10\n",
    "    return n\n",
    "\n",
    "o=1000\n",
    "l=[]\n",
    "\n",
    "while o>=1000 and o<=3000:\n",
    "    if chia1000(o)%2==0 and chia100(o)%2==0 and chia10(o)%2==0 and o%2==0:\n",
    "        l.append(o)\n",
    "    o +=1\n",
    "\n",
    "print(\", \".join(map(str,l)))"
   ]
  },
  {
   "cell_type": "markdown",
   "id": "c8846efd",
   "metadata": {},
   "source": [
    "# Exercise 8"
   ]
  },
  {
   "cell_type": "code",
   "execution_count": null,
   "id": "a8c0011d",
   "metadata": {},
   "outputs": [],
   "source": [
    "# Ex8: Let user type 2 words in English as input. Print out the output\n",
    "# which is the shortest chain according to the following rules:\n",
    "# - Each word in the chain has at least 3 letters\n",
    "# - The 2 input words from user will be used as the first and the last words of the chain\n",
    "# - 2 last letters of 1 word will be the same as 2 first letters of the next word in the chain\n",
    "# - All the words are from the file wordsEn.txt\n",
    "# - If there are multiple shortest chains, return any of them is sufficient\n"
   ]
  }
 ],
 "metadata": {
  "language_info": {
   "name": "python"
  }
 },
 "nbformat": 4,
 "nbformat_minor": 5
}
