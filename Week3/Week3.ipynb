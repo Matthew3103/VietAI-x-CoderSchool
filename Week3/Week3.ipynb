{
 "cells": [
  {
   "cell_type": "markdown",
   "id": "82d12dc0",
   "metadata": {},
   "source": [
    "# Import "
   ]
  },
  {
   "cell_type": "code",
   "execution_count": 7,
   "id": "83a06a05",
   "metadata": {},
   "outputs": [
    {
     "name": "stdout",
     "output_type": "stream",
     "text": [
      "[-0.70113   -0.068989   0.14251    0.83772    0.12793    0.45621\n",
      "  0.96044   -0.40393    1.0045     0.87818    0.0026653  0.17196\n",
      " -2.5114    -0.53574    0.083682  -0.027987   1.1578    -0.64023\n",
      "  0.20629    0.57909    0.10525    1.7612    -0.20406   -0.10141\n",
      "  0.022406 ]\n",
      "[-0.96419  -0.60978   0.67449   0.35113   0.41317  -0.21241   1.3796\n",
      "  0.12854   0.31567   0.66325   0.3391   -0.18934  -3.325    -1.1491\n",
      " -0.4129    0.2195    0.8706   -0.50616  -0.12781  -0.066965  0.065761\n",
      "  0.43927   0.1758   -0.56058   0.13529 ]\n",
      "0.81087565\n",
      "0.8108756478414557\n",
      "2----------\n",
      "0.81087565\n"
     ]
    }
   ],
   "source": [
    "import gensim.downloader as api\n",
    "import numpy as np\n",
    "from numpy.linalg import norm\n",
    "\n",
    "model = api.load(\"glove-twitter-200\")\n",
    "word1 = \"cow\"\n",
    "word2 = \"cat\"\n",
    "print(model[word1])\n",
    "print(model[word2])\n",
    "\n",
    "def cosine_sim_with_np(word_1, word_2, model):\n",
    "\n",
    "    # word2vec step for word_1 and word_2\n",
    "    vec_1 = np.array(model[word_1])\n",
    "    vec_2 = np.array(model[word_2])\n",
    "\n",
    "    # compute cosine similarity between vec_1 and vec_2\n",
    "    similarity_score =  np.dot(vec_1,vec_2)/(norm(vec_1)*norm(vec_2))\n",
    "    \n",
    "    # return the cosine similarity between vec_1 and vec_2 \n",
    "    return similarity_score\n",
    "\n",
    "def cosine_sim_with_out_np(word_1, word_2, model):\n",
    "\n",
    "    vec_1 = model[word_1]\n",
    "    vec_2 = model[word_2]\n",
    "    n=0\n",
    "    n1=0\n",
    "    n2=0\n",
    "\n",
    "    for i in range(len(vec_1)):\n",
    "        n += vec_1[i]*vec_2[i]\n",
    "        n1 += vec_1[i]**2\n",
    "        n2 += vec_2[i]**2\n",
    "    \n",
    "    cosin=n/(n1*n2)**(1/2)\n",
    "\n",
    "    return cosin\n",
    "\n",
    "#cosin dùng numpy\n",
    "score_np=cosine_sim_with_np(word1,word2,model)\n",
    "print(score_np)\n",
    "\n",
    "#cosin ko dùng numpy\n",
    "print(cosine_sim_with_out_np(word1, word2, model))\n",
    "\n",
    "\n",
    "print(\"2----------\")\n",
    "result = model.similarity(word1, word2)\n",
    "print(result)\n"
   ]
  },
  {
   "cell_type": "code",
   "execution_count": null,
   "id": "43026d40",
   "metadata": {},
   "outputs": [],
   "source": [
    "import gensim.downloader as api\n",
    "import numpy as np"
   ]
  },
  {
   "cell_type": "code",
   "execution_count": null,
   "id": "f0ca5623",
   "metadata": {},
   "outputs": [],
   "source": [
    "# 25, 50, 100 or 200. Số càng lớn thì càng chính xác, nhưng chạy càng lâu các bạn nhé\n",
    "model = api.load(\"glove-twitter-200\")\n",
    "word = \"beautiful\"\n",
    "print(model[word])"
   ]
  },
  {
   "cell_type": "markdown",
   "id": "1831d560",
   "metadata": {},
   "source": [
    "# Section 1 for word2vec"
   ]
  },
  {
   "cell_type": "code",
   "execution_count": null,
   "id": "209b3dc4",
   "metadata": {},
   "outputs": [],
   "source": [
    "print(\"1----------\")\n",
    "result = model.most_similar(word, topn=10)\n",
    "print(result)"
   ]
  },
  {
   "cell_type": "markdown",
   "id": "b2bb52cb",
   "metadata": {},
   "source": [
    "# Section 2 for word2vec"
   ]
  },
  {
   "cell_type": "code",
   "execution_count": null,
   "id": "470049ec",
   "metadata": {},
   "outputs": [],
   "source": [
    "print(\"2----------\")\n",
    "result = model.most_similar(positive=[\"january\", \"february\"], topn=10)\n",
    "print(result)"
   ]
  },
  {
   "cell_type": "markdown",
   "id": "e0f0dccf",
   "metadata": {},
   "source": [
    "# Section 3 for word2vec"
   ]
  },
  {
   "cell_type": "code",
   "execution_count": null,
   "id": "fe3d7b10",
   "metadata": {},
   "outputs": [],
   "source": [
    "print(\"3----------\")\n",
    "result = model.similarity(\"man\", \"woman\")\n",
    "print(result)"
   ]
  },
  {
   "cell_type": "markdown",
   "id": "5b0882e6",
   "metadata": {},
   "source": [
    "# Section 4 for word2vec"
   ]
  },
  {
   "cell_type": "code",
   "execution_count": null,
   "id": "44e9abb9",
   "metadata": {},
   "outputs": [],
   "source": [
    "print(\"4----------\")\n",
    "result = model.most_similar(positive=[\"woman\", \"king\"], negative=[\"man\"], topn=1)\n",
    "print(result)"
   ]
  },
  {
   "cell_type": "markdown",
   "id": "699ce02d",
   "metadata": {},
   "source": [
    "# Section 5 for word2vec"
   ]
  },
  {
   "cell_type": "code",
   "execution_count": null,
   "id": "839db716",
   "metadata": {},
   "outputs": [],
   "source": [
    "print(\"5----------\")\n",
    "result = model.most_similar(positive=[\"berlin\", \"vietnam\"], negative=[\"hanoi\"], topn=1)\n",
    "print(result)"
   ]
  },
  {
   "cell_type": "markdown",
   "id": "56cb5216",
   "metadata": {},
   "source": [
    "# Section 6 for word2vec"
   ]
  },
  {
   "cell_type": "code",
   "execution_count": null,
   "id": "3f7d3740",
   "metadata": {},
   "outputs": [],
   "source": [
    "print(\"6----------\")\n",
    "result = model.similarity(\"marriage\", \"happiness\")\n",
    "print(result)"
   ]
  },
  {
   "cell_type": "code",
   "execution_count": null,
   "id": "68e2391b",
   "metadata": {},
   "outputs": [],
   "source": [
    "\n",
    "#TODO: Các bạn thử viết 2 cách khác nhau để tính cosine similarity\n",
    "# giữa 2 vector nhé. Kết quả giống với khi dùng model.similarity() là được\n",
    "# 1 cách là dùng numpy, 1 cách là không dùng numpy nhé\n"
   ]
  }
 ],
 "metadata": {
  "kernelspec": {
   "display_name": "Python 3",
   "language": "python",
   "name": "python3"
  },
  "language_info": {
   "codemirror_mode": {
    "name": "ipython",
    "version": 3
   },
   "file_extension": ".py",
   "mimetype": "text/x-python",
   "name": "python",
   "nbconvert_exporter": "python",
   "pygments_lexer": "ipython3",
   "version": "3.12.5"
  }
 },
 "nbformat": 4,
 "nbformat_minor": 5
}
