{
 "cells": [
  {
   "cell_type": "markdown",
   "id": "82d12dc0",
   "metadata": {},
   "source": [
    "# Import "
   ]
  },
  {
   "cell_type": "code",
<<<<<<< HEAD
   "execution_count": 7,
   "id": "83a06a05",
=======
   "execution_count": 2,
   "id": "cd3db913",
>>>>>>> pr/6
   "metadata": {},
   "outputs": [
    {
     "name": "stdout",
     "output_type": "stream",
     "text": [
<<<<<<< HEAD
      "[-0.70113   -0.068989   0.14251    0.83772    0.12793    0.45621\n",
      "  0.96044   -0.40393    1.0045     0.87818    0.0026653  0.17196\n",
      " -2.5114    -0.53574    0.083682  -0.027987   1.1578    -0.64023\n",
      "  0.20629    0.57909    0.10525    1.7612    -0.20406   -0.10141\n",
      "  0.022406 ]\n",
      "[-0.96419  -0.60978   0.67449   0.35113   0.41317  -0.21241   1.3796\n",
      "  0.12854   0.31567   0.66325   0.3391   -0.18934  -3.325    -1.1491\n",
      " -0.4129    0.2195    0.8706   -0.50616  -0.12781  -0.066965  0.065761\n",
      "  0.43927   0.1758   -0.56058   0.13529 ]\n",
      "0.81087565\n",
      "0.8108756478414557\n",
      "2----------\n",
      "0.81087565\n"
=======
      "Requirement already satisfied: gensim in /usr/local/python/3.12.1/lib/python3.12/site-packages (4.3.3)\n",
      "Requirement already satisfied: numpy<2.0,>=1.18.5 in /usr/local/python/3.12.1/lib/python3.12/site-packages (from gensim) (1.26.4)\n",
      "Requirement already satisfied: scipy<1.14.0,>=1.7.0 in /usr/local/python/3.12.1/lib/python3.12/site-packages (from gensim) (1.13.1)\n",
      "Requirement already satisfied: smart-open>=1.8.1 in /usr/local/python/3.12.1/lib/python3.12/site-packages (from gensim) (7.0.5)\n",
      "Requirement already satisfied: wrapt in /usr/local/python/3.12.1/lib/python3.12/site-packages (from smart-open>=1.8.1->gensim) (1.16.0)\n",
      "\n",
      "\u001b[1m[\u001b[0m\u001b[34;49mnotice\u001b[0m\u001b[1;39;49m]\u001b[0m\u001b[39;49m A new release of pip is available: \u001b[0m\u001b[31;49m24.2\u001b[0m\u001b[39;49m -> \u001b[0m\u001b[32;49m24.3.1\u001b[0m\n",
      "\u001b[1m[\u001b[0m\u001b[34;49mnotice\u001b[0m\u001b[1;39;49m]\u001b[0m\u001b[39;49m To update, run: \u001b[0m\u001b[32;49mpython3 -m pip install --upgrade pip\u001b[0m\n"
>>>>>>> pr/6
     ]
    }
   ],
   "source": [
<<<<<<< HEAD
    "import gensim.downloader as api\n",
    "import numpy as np\n",
    "from numpy.linalg import norm\n",
    "\n",
    "model = api.load(\"glove-twitter-200\")\n",
    "word1 = \"cow\"\n",
    "word2 = \"cat\"\n",
    "print(model[word1])\n",
    "print(model[word2])\n",
    "\n",
    "def cosine_sim_with_np(word_1, word_2, model):\n",
    "\n",
    "    # word2vec step for word_1 and word_2\n",
    "    vec_1 = np.array(model[word_1])\n",
    "    vec_2 = np.array(model[word_2])\n",
    "\n",
    "    # compute cosine similarity between vec_1 and vec_2\n",
    "    similarity_score =  np.dot(vec_1,vec_2)/(norm(vec_1)*norm(vec_2))\n",
    "    \n",
    "    # return the cosine similarity between vec_1 and vec_2 \n",
    "    return similarity_score\n",
    "\n",
    "def cosine_sim_with_out_np(word_1, word_2, model):\n",
    "\n",
    "    vec_1 = model[word_1]\n",
    "    vec_2 = model[word_2]\n",
    "    n=0\n",
    "    n1=0\n",
    "    n2=0\n",
    "\n",
    "    for i in range(len(vec_1)):\n",
    "        n += vec_1[i]*vec_2[i]\n",
    "        n1 += vec_1[i]**2\n",
    "        n2 += vec_2[i]**2\n",
    "    \n",
    "    cosin=n/(n1*n2)**(1/2)\n",
    "\n",
    "    return cosin\n",
    "\n",
    "#cosin dùng numpy\n",
    "score_np=cosine_sim_with_np(word1,word2,model)\n",
    "print(score_np)\n",
    "\n",
    "#cosin ko dùng numpy\n",
    "print(cosine_sim_with_out_np(word1, word2, model))\n",
    "\n",
    "\n",
    "print(\"2----------\")\n",
    "result = model.similarity(word1, word2)\n",
    "print(result)\n"
=======
    "!pip install gensim"
>>>>>>> pr/6
   ]
  },
  {
   "cell_type": "code",
<<<<<<< HEAD
   "execution_count": null,
=======
   "execution_count": 3,
>>>>>>> pr/6
   "id": "43026d40",
   "metadata": {},
   "outputs": [],
   "source": [
    "import gensim.downloader as api\n",
    "import numpy as np"
   ]
  },
  {
   "cell_type": "code",
   "execution_count": 4,
   "id": "f0ca5623",
   "metadata": {},
   "outputs": [
    {
     "name": "stdout",
     "output_type": "stream",
     "text": [
      "[==================================================] 100.0% 104.8/104.8MB downloaded\n",
      "[-1.5578   -0.99442   0.30093   0.055712  0.096052  0.29998   2.1864\n",
      "  0.38417  -1.0875   -0.63333  -0.73723   0.40719  -4.343     0.062952\n",
      " -1.08     -0.27538   0.32506  -0.31789  -0.19544   0.64269  -0.021329\n",
      " -0.32933  -0.76828  -0.054674 -0.41345 ]\n"
     ]
    }
   ],
   "source": [
    "# 25, 50, 100 or 200. Số càng lớn thì càng chính xác, nhưng chạy càng lâu các bạn nhé\n",
    "model = api.load(\"glove-twitter-25\")\n",
    "word = \"beautiful\"\n",
    "print(model[word])"
   ]
  },
  {
   "cell_type": "markdown",
   "id": "1831d560",
   "metadata": {},
   "source": [
    "# Section 1 for word2vec"
   ]
  },
  {
   "cell_type": "code",
   "execution_count": 5,
   "id": "209b3dc4",
   "metadata": {},
   "outputs": [
    {
     "name": "stdout",
     "output_type": "stream",
     "text": [
      "1----------\n",
      "[('gorgeous', 0.933364748954773), ('lovely', 0.9279096722602844), ('amazing', 0.9218392968177795), ('love', 0.9173232913017273), ('wonderful', 0.9150214791297913), ('loving', 0.9093379974365234), ('dream', 0.9086582660675049), ('pretty', 0.9071912169456482), ('perfect', 0.9066720008850098), ('little', 0.906454861164093)]\n"
     ]
    }
   ],
   "source": [
    "print(\"1----------\")\n",
    "result = model.most_similar(word, topn=10)\n",
    "print(result)"
   ]
  },
  {
   "cell_type": "markdown",
   "id": "b2bb52cb",
   "metadata": {},
   "source": [
    "# Section 2 for word2vec"
   ]
  },
  {
   "cell_type": "code",
   "execution_count": 6,
   "id": "470049ec",
   "metadata": {},
   "outputs": [
    {
     "name": "stdout",
     "output_type": "stream",
     "text": [
      "2----------\n",
      "[('march', 0.9706878662109375), ('october', 0.9691615104675293), ('june', 0.9538876414299011), ('december', 0.9475950002670288), ('august', 0.9452325701713562), ('july', 0.9375306963920593), ('november', 0.9197096228599548), ('dec', 0.8917480707168579), ('monday', 0.8903121948242188), ('wednesday', 0.8874315619468689)]\n"
     ]
    }
   ],
   "source": [
    "print(\"2----------\")\n",
    "result = model.most_similar(positive=[\"january\", \"february\"], topn=10)\n",
    "print(result)"
   ]
  },
  {
   "cell_type": "markdown",
   "id": "e0f0dccf",
   "metadata": {},
   "source": [
    "# Section 3 for word2vec"
   ]
  },
  {
   "cell_type": "code",
   "execution_count": 6,
   "id": "fe3d7b10",
   "metadata": {},
   "outputs": [
    {
     "name": "stdout",
     "output_type": "stream",
     "text": [
      "3----------\n",
      "0.6613607\n"
     ]
    }
   ],
   "source": [
    "print(\"3----------\")\n",
    "result = model.similarity(\"man\", \"woman\")\n",
    "print(result)"
   ]
  },
  {
   "cell_type": "markdown",
   "id": "5b0882e6",
   "metadata": {},
   "source": [
    "# Section 4 for word2vec"
   ]
  },
  {
   "cell_type": "code",
   "execution_count": 7,
   "id": "44e9abb9",
   "metadata": {},
   "outputs": [
    {
     "name": "stdout",
     "output_type": "stream",
     "text": [
      "4----------\n",
      "[('queen', 0.6820898056030273)]\n"
     ]
    }
   ],
   "source": [
    "print(\"4----------\")\n",
    "result = model.most_similar(positive=[\"woman\", \"king\"], negative=[\"man\"], topn=1)\n",
    "print(result)"
   ]
  },
  {
   "cell_type": "markdown",
   "id": "699ce02d",
   "metadata": {},
   "source": [
    "# Section 5 for word2vec"
   ]
  },
  {
   "cell_type": "code",
   "execution_count": 8,
   "id": "839db716",
   "metadata": {},
   "outputs": [
    {
     "name": "stdout",
     "output_type": "stream",
     "text": [
      "5----------\n",
      "[('germany', 0.6267244815826416)]\n"
     ]
    }
   ],
   "source": [
    "print(\"5----------\")\n",
    "result = model.most_similar(positive=[\"berlin\", \"vietnam\"], negative=[\"hanoi\"], topn=1)\n",
    "print(result)"
   ]
  },
  {
   "cell_type": "markdown",
   "id": "56cb5216",
   "metadata": {},
   "source": [
    "# Section 6 for word2vec"
   ]
  },
  {
   "cell_type": "code",
   "execution_count": 9,
   "id": "3f7d3740",
   "metadata": {},
   "outputs": [
    {
     "name": "stdout",
     "output_type": "stream",
     "text": [
      "6----------\n",
      "0.35169452\n"
     ]
    }
   ],
   "source": [
    "print(\"6----------\")\n",
    "result = model.similarity(\"marriage\", \"happiness\")\n",
    "print(result)"
   ]
  },
  {
   "cell_type": "code",
   "execution_count": null,
   "id": "68e2391b",
   "metadata": {},
   "outputs": [],
   "source": [
    "\n",
    "#TODO: Các bạn thử viết 2 cách khác nhau để tính cosine similarity\n",
    "# giữa 2 vector nhé. Kết quả giống với khi dùng model.similarity() là được\n",
    "# 1 cách là dùng numpy, 1 cách là không dùng numpy nhé\n"
   ]
  },
  {
   "cell_type": "code",
   "execution_count": 7,
   "id": "6b7dc94a",
   "metadata": {},
   "outputs": [],
   "source": [
    "def cosine_similarity_numpy(vec1, vec2):\n",
    "    dot_product = np.dot(vec1, vec2)\n",
    "    norm_vec1 = np.linalg.norm(vec1)\n",
    "    norm_vec2 = np.linalg.norm(vec2)\n",
    "    return dot_product / (norm_vec1 * norm_vec2)"
   ]
  },
  {
   "cell_type": "code",
   "execution_count": 8,
   "id": "a1528f21",
   "metadata": {},
   "outputs": [],
   "source": [
    "import math\n",
    "\n",
    "def cosine_similarity_manual(vec1, vec2):\n",
    "    dot_product = sum(a * b for a, b in zip(vec1, vec2))\n",
    "    norm_vec1 = math.sqrt(sum(a * a for a in vec1))\n",
    "    norm_vec2 = math.sqrt(sum(b * b for b in vec2))\n",
    "    return dot_product / (norm_vec1 * norm_vec2)"
   ]
  },
  {
   "cell_type": "code",
   "execution_count": 9,
   "id": "8b845277",
   "metadata": {},
   "outputs": [
    {
     "name": "stdout",
     "output_type": "stream",
     "text": [
      "Cosine Similarity (with numpy): 0.6507986\n",
      "Cosine Similarity (without numpy): 0.6507986582164231\n"
     ]
    }
   ],
   "source": [
    "# Assume we have two word vectors from the model\n",
    "vec1 = model[\"marriage\"]\n",
    "vec2 = model[\"happiness\"]\n",
    "\n",
    "# Calculate cosine similarity with numpy\n",
    "similarity_with_numpy = cosine_similarity_numpy(vec1, vec2)\n",
    "print(\"Cosine Similarity (with numpy):\", similarity_with_numpy)\n",
    "\n",
    "# Calculate cosine similarity without numpy\n",
    "similarity_without_numpy = cosine_similarity_manual(vec1, vec2)\n",
    "print(\"Cosine Similarity (without numpy):\", similarity_without_numpy)\n"
   ]
  }
 ],
 "metadata": {
  "kernelspec": {
   "display_name": "Python 3",
   "language": "python",
   "name": "python3"
  },
  "language_info": {
   "codemirror_mode": {
    "name": "ipython",
    "version": 3
   },
   "file_extension": ".py",
   "mimetype": "text/x-python",
   "name": "python",
   "nbconvert_exporter": "python",
   "pygments_lexer": "ipython3",
<<<<<<< HEAD
   "version": "3.12.5"
=======
   "version": "3.12.1"
>>>>>>> pr/6
  }
 },
 "nbformat": 4,
 "nbformat_minor": 5
}
