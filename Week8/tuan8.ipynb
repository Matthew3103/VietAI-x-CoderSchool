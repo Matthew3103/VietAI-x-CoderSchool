{
 "cells": [
  {
   "cell_type": "code",
   "execution_count": null,
   "metadata": {},
   "outputs": [],
   "source": [
    "import pandas as pd\n",
    "from sklearn.model_selection import train_test_split, GridSearchCV\n",
    "from sklearn.compose import ColumnTransformer\n",
    "from sklearn.feature_extraction.text import TfidfVectorizer\n",
    "\n",
    "def change_location(location):\n",
    "    result =location.split(',')\n",
    "    if len(result)>1:\n",
    "        return result[1][1:]\n",
    "    else:\n",
    "        return location\n",
    "\n",
    "data = pd.read_excel('job_dataset.ods', engine='odf')\n",
    "data = data.dropna(axis=0)\n",
    "data = data['location'].apply(change_location)\n",
    "\n",
    "target = 'career_level'\n",
    "x= data.drop([target], axis=1)\n",
    "y = data[target]\n",
    "x_train, x_test, y_train, y_test = train_test_split(x, y, test_size=0.2, random_state=42)\n",
    "\n",
    "preprocesser =ColumnTransformer(transformers=[\n",
    "    ('tittle_feature', TfidfVectorizer(ngram_range=(1,1)), 'tittle'),\n",
    "    ('tittle_feature', TfidfVectorizer(ngram_range=(1,1)), 'tittle'),\n",
    "    ('tittle_feature', TfidfVectorizer(ngram_range=(1,2)), 'tittle'),\n",
    "    ('tittle_feature', TfidfVectorizer(ngram_range=(1,1)), 'tittle'),\n",
    "    ('tittle_feature', TfidfVectorizer(ngram_range=(1,1)), 'tittle'),\n",
    "])\n"
   ]
  }
 ],
 "metadata": {
  "kernelspec": {
   "display_name": "Python 3",
   "language": "python",
   "name": "python3"
  },
  "language_info": {
   "codemirror_mode": {
    "name": "ipython",
    "version": 3
   },
   "file_extension": ".py",
   "mimetype": "text/x-python",
   "name": "python",
   "nbconvert_exporter": "python",
   "pygments_lexer": "ipython3",
   "version": "3.12.5"
  }
 },
 "nbformat": 4,
 "nbformat_minor": 2
}
