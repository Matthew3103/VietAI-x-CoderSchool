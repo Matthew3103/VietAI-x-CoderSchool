{
 "cells": [
  {
   "cell_type": "code",
   "execution_count": 1,
   "metadata": {},
   "outputs": [],
   "source": [
    "import numpy as np\n",
    "from matplotlib import pyplot as plt\n",
    "\n",
    "def average(a):\n",
    "    x = np.mean(a, axis=0)\n",
    "    return x\n",
    "\n",
    "def dot_product(a,b):\n",
    "    for idx, i in enumerate(a):\n",
    "        score = np.dot(i.flatten(), b)\n",
    "        print('Picture {}: '.format(idx +1),score)"
   ]
  },
  {
   "cell_type": "code",
   "execution_count": 2,
   "metadata": {},
   "outputs": [],
   "source": [
    "# Main file\n",
    "main_file = \"full_numpy_bitmap_ant.npy\" \n",
    "main_images = np.load(main_file).astype(np.float32) \n",
    "\n",
    "# Sub file\n",
    "files = [\n",
    "    \"full_numpy_bitmap_alarm clock.npy\",\n",
    "    \"full_numpy_bitmap_apple.npy\",\n",
    "    \"full_numpy_bitmap_asparagus.npy\",\n",
    "    \"full_numpy_bitmap_banana.npy\",\n",
    "    \"full_numpy_bitmap_bat.npy\",\n",
    "    \"full_numpy_bitmap_bear.npy\",\n",
    "    \"full_numpy_bitmap_bed.npy\",\n",
    "    \"full_numpy_bitmap_bee.npy\",\n",
    "    \"full_numpy_bitmap_bird.npy\"\n",
    "]\n",
    "sub_images = [np.load(file).astype(np.float32) for file in files]"
   ]
  },
  {
   "cell_type": "code",
   "execution_count": 3,
   "metadata": {},
   "outputs": [],
   "source": [
    "train_images = main_images[:-10]\n",
    "test_images = main_images[-10:]"
   ]
  },
  {
   "cell_type": "code",
   "execution_count": 4,
   "metadata": {},
   "outputs": [
    {
     "data": {
      "image/png": "[encoded data removed]",
      "text/plain": [
       "<Figure size 640x480 with 1 Axes>"
      ]
     },
     "metadata": {},
     "output_type": "display_data"
    }
   ],
   "source": [
    "# Main file\n",
    "avg = average(train_images)\n",
    "im = avg.reshape(28,28)\n",
    "\n",
    "plt.imshow(im)\n",
    "plt.show()\n",
    "\n",
    "\n",
    "# Sub file\n",
    "sub_avg= [average(i) for i in sub_images]"
   ]
  },
  {
   "cell_type": "code",
   "execution_count": 8,
   "metadata": {},
   "outputs": [
    {
     "name": "stdout",
     "output_type": "stream",
     "text": [
      "Main picture:  3294023.5\n",
      "-------------------------------------\n",
      "Picture 1:  2367283.2\n",
      "Picture 2:  1471555.6\n",
      "Picture 3:  1756597.8\n",
      "Picture 4:  1662273.2\n",
      "Picture 5:  3229542.0\n",
      "Picture 6:  2449460.8\n",
      "Picture 7:  2968313.5\n",
      "Picture 8:  3655478.0\n",
      "Picture 9:  2653556.5\n"
     ]
    }
   ],
   "source": [
    "test_image = test_images[8]\n",
    "score = np.dot(test_image.flatten(), avg)\n",
    "print('Main picture: ',score)\n",
    "print('-------------------------------------')\n",
    "\n",
    "dot_product(sub_avg, test_image)"
   ]
  },
  {
   "cell_type": "code",
   "execution_count": null,
   "metadata": {},
   "outputs": [],
   "source": []
  }
 ],
 "metadata": {
  "kernelspec": {
   "display_name": "Python 3",
   "language": "python",
   "name": "python3"
  },
  "language_info": {
   "codemirror_mode": {
    "name": "ipython",
    "version": 3
   },
   "file_extension": ".py",
   "mimetype": "text/x-python",
   "name": "python",
   "nbconvert_exporter": "python",
   "pygments_lexer": "ipython3",
   "version": "3.13.1"
  }
 },
 "nbformat": 4,
 "nbformat_minor": 2
}
