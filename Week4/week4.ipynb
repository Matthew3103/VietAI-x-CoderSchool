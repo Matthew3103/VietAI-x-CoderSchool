{
 "cells": [
  {
   "cell_type": "code",
   "execution_count": 43,
   "metadata": {},
   "outputs": [],
   "source": [
    "import pandas as pd\n",
    "\n",
    "data=pd.read_csv('Week4_1_data.csv')\n",
    "\n",
    "cau1 = data.groupby('educational_level').size()\n",
    "\n",
    "cau2 = data['annual_income'].nlargest(n=20)\n",
    "\n",
    "cau3 = data[(data['year_of_birth'] > 1960) & (data['annual_income'] > 50000)] \n",
    "\n",
    "cau4 = cau3['annual_income'].nlargest(n=20)\n",
    "\n",
    "cau5 = data[(data['marital_status'] == 'Married') | (data['marital_status'] == 'Divorced')]\n",
    "\n",
    "cau6 = data.groupby('educational_level')['annual_income'].mean()\n",
    "\n",
    "\n"
   ]
  }
 ],
 "metadata": {
  "kernelspec": {
   "display_name": "Python 3",
   "language": "python",
   "name": "python3"
  },
  "language_info": {
   "codemirror_mode": {
    "name": "ipython",
    "version": 3
   },
   "file_extension": ".py",
   "mimetype": "text/x-python",
   "name": "python",
   "nbconvert_exporter": "python",
   "pygments_lexer": "ipython3",
   "version": "3.11.9"
  }
 },
 "nbformat": 4,
 "nbformat_minor": 2
}
