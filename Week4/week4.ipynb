{
 "cells": [
  {
   "cell_type": "code",
   "execution_count": null,
   "metadata": {},
   "outputs": [],
   "source": [
    "import pandas as pd\n",
    "\n",
    "data=pd.read_csv('Week4_1_data.csv')\n",
    "\n",
    "#Task 1: Thống kê số lượng khách hàng theo học vấn (High school,\n",
    "#master,...)\n",
    "cau1 = data.groupby('educational_level').size()\n",
    "\n",
    "#Task 2: In ra 20 khách hàng có thu nhập cá nhân (annual_income) cao nhất\n",
    "cau2 = data['annual_income'].nlargest(n=20)\n",
    "\n",
    "cau3 = data[(data['year_of_birth'] > 1960) & (data['annual_income'] > 50000)] \n",
    "\n",
    "cau4 = cau3['annual_income'].nlargest(n=20)\n",
    "\n",
    "cau5 = data[(data['marital_status'] == 'Married') | (data['marital_status'] == 'Divorced')]\n",
    "\n",
    "cau6 = data.groupby('educational_level')['annual_income'].mean()\n",
    "\n",
    "\n"
   ]
  },
  {
   "cell_type": "code",
   "execution_count": 30,
   "metadata": {},
   "outputs": [
    {
     "name": "stdout",
     "output_type": "stream",
     "text": [
      "Iris-versicolor\n",
      "Iris-versicolor\n"
     ]
    }
   ],
   "source": [
    "import pandas as pd\n",
    "\n",
    "data=pd.read_csv('Iris.csv')\n",
    "\n",
    "#Bài 1a:\n",
    "#Tính trung bình cộng chiều dài, chiều rộng đài hoa của từng loại (3 loại hoa)\n",
    "\n",
    "cau1_1 = data.groupby('Species')['SepalLengthCm'].mean()\n",
    "cau1_2 = data.groupby('Species')['SepalWidthCm'].mean()\n",
    "\n",
    "#Bài 2a:\n",
    "#Xác định chiều dài, chiều rộng đài hoa lớn nhất của từng loại (3 loại hoa)\n",
    "\n",
    "cau2_1 = data.groupby('Species')['SepalLengthCm'].max()\n",
    "cau2_2 = data.groupby('Species')['SepalWidthCm'].max()\n",
    "\n",
    "#Bài 3a:\n",
    "#Nhập input đầu vào là 2 thông số, chiều dài & chiều rộng của 1 bông hoa bất kỳ (theo\n",
    "#đơn vị mm). Xác định xem bông hoa đấy thuộc loại hoa nào (Iris setosa, Iris\n",
    "#virginica hay Iris versicolor). Loại của bông hoa được xác định là class của\n",
    "#a) Điểm có tọa độ gần nó nhất\n",
    "#b) Trung bình cộng nhỏ nhất đến tất cả các điểm của từng loại\n",
    "\n",
    "\n",
    "x=float(input('Nhap chieu dai: '))\n",
    "y=float(input('Nhap chieu rong: '))\n",
    "\n",
    "x=x/10\n",
    "y=y/10\n",
    "\n",
    "data['hoanh do'] = data['SepalLengthCm'].apply(lambda i: i - x)\n",
    "data['tung do'] = data['SepalWidthCm'].apply(lambda i: i - y)\n",
    "\n",
    "data['khoang cach'] = (data['hoanh do']**2 + data['tung do']**2)**0.5\n",
    "\n",
    "n= data.groupby('Species')['khoang cach'].min()\n",
    "\n",
    "cau3a = n.idxmin()\n",
    "\n",
    "print(cau3a)\n",
    "\n",
    "tb = data.groupby('Species')['khoang cach'].mean()\n",
    "\n",
    "cau3b = tb.idxmin()\n",
    "\n",
    "print(cau3b)\n"
   ]
  }
 ],
 "metadata": {
  "kernelspec": {
   "display_name": "Python 3",
   "language": "python",
   "name": "python3"
  },
  "language_info": {
   "codemirror_mode": {
    "name": "ipython",
    "version": 3
   },
   "file_extension": ".py",
   "mimetype": "text/x-python",
   "name": "python",
   "nbconvert_exporter": "python",
   "pygments_lexer": "ipython3",
   "version": "3.11.9"
  }
 },
 "nbformat": 4,
 "nbformat_minor": 2
}
