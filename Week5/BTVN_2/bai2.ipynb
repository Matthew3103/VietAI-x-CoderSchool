{
 "cells": [
  {
   "cell_type": "code",
   "execution_count": null,
   "metadata": {},
   "outputs": [],
   "source": [
    "import pandas as pd\n",
    "\n",
    "data = pd.read_csv('dataset_2.csv', encoding='ISO-8859-1')\n",
    "\n",
    "\n",
    "#Task 1: In ra index của 10 học sinh có math score và reading score đều nằm trong Top 100\n",
    "\n",
    "top100_mathscore = data['math score'].nlargest(n=100).index\n",
    "top100_readingscore = data['reading score'].nlargest(n=100).index\n",
    "index_100hocsinh = data[data.index.isin(top100_mathscore) & data.index.isin(top100_readingscore)]\n",
    "index_10hocsinh = data.loc[index_100hocsinh['math score'].sample(n=10)].index\n",
    "\n",
    "print(index_10hocsinh)\n",
    "\n",
    "#Task 2: In ra index của 20 học sinh có điểm writing score cao nhất của mỗi group (race/ethnicity)\n",
    "\n",
    "highest_writing_score = data.groupby('race/ethnicity')['writing score'].nlargest(n=20).index\n",
    "\n",
    "print(highest_writing_score)\n",
    "\n",
    "#Task 3: Thống kê số lượng học sinh của group A theo parental level of education\n",
    "\n",
    "groupA = data[data['race/ethnicity'] == 'group A']\n",
    "number_of_studens = groupA.groupby('parental level of education').size()\n",
    "\n",
    "print(number_of_studens)\n",
    "\n",
    "\n",
    "#Task 4: Có phải xu hướng chung, cha mẹ có học vấn càng cao thì điểm số\n",
    "#trung bình 3 môn của con cái cũng càng cao ko\n",
    "\n",
    "data['average score'] = ( data['math score'] + data['reading score'] + data['writing score'])/3\n",
    "\n",
    "top80 = data[data['average score']>=80]\n",
    "thongke80 = top80.groupby('parental level of education')['average score'].size()\n",
    "\n",
    "top90 = data[data['average score']>=90]\n",
    "thongke90 = top90.groupby('parental level of education')['average score'].size()\n",
    "\n",
    "print(thongke80)\n",
    "print(thongke90)\n",
    "print('Không có một mối quan hệ rõ ràng giữa việc trình độ học vấn của cha mẹ càng cao thì điểm trung bình của con cái càng cao')\n",
    "\n",
    "\n"
   ]
  }
 ],
 "metadata": {
  "kernelspec": {
   "display_name": "Python 3",
   "language": "python",
   "name": "python3"
  },
  "language_info": {
   "codemirror_mode": {
    "name": "ipython",
    "version": 3
   },
   "file_extension": ".py",
   "mimetype": "text/x-python",
   "name": "python",
   "nbconvert_exporter": "python",
   "pygments_lexer": "ipython3",
   "version": "3.12.5"
  }
 },
 "nbformat": 4,
 "nbformat_minor": 2
}
